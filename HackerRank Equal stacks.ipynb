{
 "cells": [
  {
   "cell_type": "markdown",
   "metadata": {},
   "source": [
    "How about this logic:\n",
    "\n",
    "Step I. get the 3 array and reverse them, create a new array out of an existing array with each element is sum of all the previous elements. eg: [3,2,1,1,1] -> [1,1,1,2,3] -> [1,2,3,5,8]\n",
    "\n",
    "So the 3 new array formed would be [1,2,3,5,8] [2,5,9] [1,5,6,7]\n",
    "\n",
    "Step II. Again reverse the array [8,5,3,2,1] [9,5,2] [7,6,5,1]\n",
    "\n",
    "Step III. Take the smallest array i.e. [9,5,2] traverse the smallest array and search element in the other 2 array - if the element is existing in other 2 array, STOP there and return the number.\n",
    "\n",
    "Eg. Here I start with elem - 9 : Which is not existing in other 2 array. Next I start with elem - 5 : it is existing in other 2 array.\n",
    "\n",
    "Wolla! 5 is my NUMBER"
   ]
  },
  {
   "cell_type": "code",
   "execution_count": 2,
   "metadata": {},
   "outputs": [],
   "source": [
    "'''5 3 4'''\n",
    "ar1 = [3, 2, 1, 1, 1]\n",
    "ar2 = [4, 3, 2]\n",
    "ar3 = [1, 1, 4, 1]\n"
   ]
  },
  {
   "cell_type": "code",
   "execution_count": 12,
   "metadata": {},
   "outputs": [],
   "source": [
    "def Stack(array1, array2, array3):\n",
    "    rev1 = array1[::-1]\n",
    "    rev2 = array2[::-1]\n",
    "    rev3 = array3[::-1]\n",
    "    \n",
    "    sum1 = np.cumsum(rev1)\n",
    "    sum2 = np.cumsum(rev2)\n",
    "    sum3 = np.cumsum(rev3)\n",
    "    \n",
    "    print(\"Rev1: \\n {} \\n Rev2: \\n {} \\n Rev3: \\n {} \\n\".format(rev1, rev2, rev3))\n",
    "    print(\"The sums are: \\n\", sum1, sum2, sum3)\n",
    "    \n",
    "    smallest = min([len(sum1), len(sum2), len(sum3)])\n",
    "    print(\"The samallest array is {}\".format(smallest))"
   ]
  },
  {
   "cell_type": "code",
   "execution_count": 13,
   "metadata": {},
   "outputs": [
    {
     "name": "stdout",
     "output_type": "stream",
     "text": [
      "Rev1: \n",
      " [1, 1, 1, 2, 3] \n",
      " Rev2: \n",
      " [2, 3, 4] \n",
      " Rev3: \n",
      " [1, 4, 1, 1] \n",
      "\n",
      "The sums are: \n",
      " [1 2 3 5 8] [2 5 9] [1 5 6 7]\n",
      "The samallest array is 3\n"
     ]
    }
   ],
   "source": [
    "Stack(ar1, ar2, ar3)"
   ]
  },
  {
   "cell_type": "code",
   "execution_count": 8,
   "metadata": {},
   "outputs": [],
   "source": [
    "import numpy as np"
   ]
  },
  {
   "cell_type": "code",
   "execution_count": null,
   "metadata": {},
   "outputs": [],
   "source": [
    "arr1 = np.cumsum(R)"
   ]
  },
  {
   "cell_type": "code",
   "execution_count": null,
   "metadata": {},
   "outputs": [],
   "source": []
  }
 ],
 "metadata": {
  "kernelspec": {
   "display_name": "Python 3",
   "language": "python",
   "name": "python3"
  },
  "language_info": {
   "codemirror_mode": {
    "name": "ipython",
    "version": 3
   },
   "file_extension": ".py",
   "mimetype": "text/x-python",
   "name": "python",
   "nbconvert_exporter": "python",
   "pygments_lexer": "ipython3",
   "version": "3.7.3"
  }
 },
 "nbformat": 4,
 "nbformat_minor": 2
}
