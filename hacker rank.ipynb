{
 "cells": [
  {
   "cell_type": "markdown",
   "metadata": {},
   "source": [
    "str.isalnum()\n",
    "This method checks if all the characters of a string are alphanumeric (a-z, A-Z and 0-9).\n",
    "\n",
    "str.isalpha()\n",
    "This method checks if all the characters of a string are alphabetical (a-z and A-Z).\n",
    "\n",
    "str.isdigit()\n",
    "This method checks if all the characters of a string are digits (0-9).\n",
    "\n",
    "str.islower()\n",
    "This method checks if all the characters of a string are lowercase characters (a-z).\n",
    "\n",
    "str.isupper()\n",
    "This method checks if all the characters of a string are uppercase characters (A-Z)."
   ]
  },
  {
   "cell_type": "markdown",
   "metadata": {},
   "source": [
    "In the first line, print True if  has any alphanumeric characters. Otherwise, print False.\n",
    "In the second line, print True if  has any alphabetical characters. Otherwise, print False.\n",
    "In the third line, print True if  has any digits. Otherwise, print False.\n",
    "In the fourth line, print True if  has any lowercase characters. Otherwise, print False.\n",
    "In the fifth line, print True if  has any uppercase characters. Otherwise, print False."
   ]
  },
  {
   "cell_type": "code",
   "execution_count": 1,
   "metadata": {},
   "outputs": [],
   "source": [
    "S = \"qA2\""
   ]
  },
  {
   "cell_type": "markdown",
   "metadata": {},
   "source": [
    "### String validators"
   ]
  },
  {
   "cell_type": "code",
   "execution_count": 20,
   "metadata": {},
   "outputs": [],
   "source": [
    "def checkString(word):\n",
    "    print(any(c.isalnum() for c in S))\n",
    "    print(any(c.isalpha() for c in S))\n",
    "    print(any(c.isdigit() for c in S))\n",
    "    print(any(c.islower() for c in S))\n",
    "    print(any(c.isupper() for c in S))\n",
    "    "
   ]
  },
  {
   "cell_type": "code",
   "execution_count": 21,
   "metadata": {},
   "outputs": [
    {
     "name": "stdout",
     "output_type": "stream",
     "text": [
      "True\n",
      "True\n",
      "True\n",
      "True\n",
      "True\n"
     ]
    }
   ],
   "source": [
    "checkString(S)"
   ]
  },
  {
   "cell_type": "markdown",
   "metadata": {},
   "source": [
    "### Find the substring"
   ]
  },
  {
   "cell_type": "code",
   "execution_count": 23,
   "metadata": {},
   "outputs": [],
   "source": [
    "string = \"ABCDCDC\"\n",
    "sub_string = \"CDC\""
   ]
  },
  {
   "cell_type": "code",
   "execution_count": 31,
   "metadata": {},
   "outputs": [
    {
     "name": "stdout",
     "output_type": "stream",
     "text": [
      "1\n"
     ]
    }
   ],
   "source": [
    "if sub_string in string:\n",
    "    print(string.count(sub_string, ))"
   ]
  },
  {
   "cell_type": "code",
   "execution_count": 33,
   "metadata": {},
   "outputs": [
    {
     "name": "stdout",
     "output_type": "stream",
     "text": [
      "A\n",
      "B\n",
      "C\n",
      "D\n",
      "C\n",
      "D\n",
      "C\n"
     ]
    }
   ],
   "source": [
    "for i in range(0, len(string)):\n",
    "    print(string[i])"
   ]
  },
  {
   "cell_type": "code",
   "execution_count": 38,
   "metadata": {},
   "outputs": [
    {
     "data": {
      "text/plain": [
       "2"
      ]
     },
     "execution_count": 38,
     "metadata": {},
     "output_type": "execute_result"
    }
   ],
   "source": [
    "def my_count(string, substring):\n",
    "    string_size = len(string)\n",
    "    substring_size = len(substring)\n",
    "    count = 0\n",
    "    for i in range(0,string_size-substring_size+1):\n",
    "        if string[i:i+substring_size] == substring:\n",
    "            count+=1\n",
    "    return count\n",
    "\n",
    "my_count(\"ABCDCDC\", \"CDC\")\n",
    "# 4"
   ]
  },
  {
   "cell_type": "code",
   "execution_count": 35,
   "metadata": {},
   "outputs": [
    {
     "data": {
      "text/plain": [
       "0"
      ]
     },
     "execution_count": 35,
     "metadata": {},
     "output_type": "execute_result"
    }
   ],
   "source": [
    "count_substring(string, sub_string)"
   ]
  },
  {
   "cell_type": "code",
   "execution_count": 41,
   "metadata": {},
   "outputs": [],
   "source": [
    "def count_substring(string, sub_string):\n",
    "    string_size = len(string)\n",
    "    substring_size = len(sub_string)\n",
    "    count = 0\n",
    "    for i in range(0,string_size-substring_size+1):\n",
    "        if string[i:i+substring_size] == sub_string:\n",
    "            count+=1\n",
    "    return count\n",
    "\n",
    "\n",
    "\n",
    "if __name__ == '__main__':\n",
    "    string = input().strip()\n",
    "    sub_string = input().strip()\n",
    "    \n",
    "    count = count_substring(string, sub_string)\n",
    "    print(count)"
   ]
  },
  {
   "cell_type": "markdown",
   "metadata": {},
   "source": [
    "### Intro to sets()"
   ]
  },
  {
   "cell_type": "code",
   "execution_count": 50,
   "metadata": {},
   "outputs": [],
   "source": [
    "N = 10\n",
    "array = [161, 182, 161, 154, 176, 170, 167, 171, 170, 174]"
   ]
  },
  {
   "cell_type": "code",
   "execution_count": 63,
   "metadata": {},
   "outputs": [],
   "source": [
    "def average(array):\n",
    "    setA = set(array)\n",
    "    average = sum(setA)/len(setA)\n",
    "    print(average)\n",
    "    "
   ]
  },
  {
   "cell_type": "code",
   "execution_count": 64,
   "metadata": {},
   "outputs": [
    {
     "name": "stdout",
     "output_type": "stream",
     "text": [
      "169.375\n"
     ]
    }
   ],
   "source": [
    "average(array)"
   ]
  },
  {
   "cell_type": "code",
   "execution_count": 65,
   "metadata": {},
   "outputs": [],
   "source": [
    "# solution that passed the challenge \n",
    "def average(array):\n",
    "    setA = set(array)\n",
    "    average = sum(setA)/len(setA)\n",
    "    return average\n",
    "    \n",
    "    # your code goes here\n",
    "\n",
    "if __name__ == '__main__':\n",
    "    n = int(input())\n",
    "    arr = list(map(int, input().split()))\n",
    "    result = average(arr)\n",
    "    print(result)"
   ]
  },
  {
   "cell_type": "markdown",
   "metadata": {},
   "source": [
    "### set.add()"
   ]
  },
  {
   "cell_type": "code",
   "execution_count": 66,
   "metadata": {},
   "outputs": [],
   "source": [
    "number = 7\n"
   ]
  },
  {
   "cell_type": "code",
   "execution_count": 69,
   "metadata": {},
   "outputs": [],
   "source": [
    "countries_stack = [\"UK\",\n",
    "\"China\",\n",
    "\"USA\",\n",
    "\"France\",\n",
    "\"New Zealand\",\n",
    "\"UK\",\n",
    "\"France\"]"
   ]
  },
  {
   "cell_type": "code",
   "execution_count": 70,
   "metadata": {},
   "outputs": [],
   "source": [
    "def stamps(countries):\n",
    "    countrySet = set(countries_stack)\n",
    "    print(len(countrySet))"
   ]
  },
  {
   "cell_type": "code",
   "execution_count": 71,
   "metadata": {},
   "outputs": [
    {
     "name": "stdout",
     "output_type": "stream",
     "text": [
      "5\n"
     ]
    }
   ],
   "source": [
    "stamps(countries_stack)"
   ]
  },
  {
   "cell_type": "code",
   "execution_count": null,
   "metadata": {},
   "outputs": [],
   "source": []
  }
 ],
 "metadata": {
  "kernelspec": {
   "display_name": "Python 3",
   "language": "python",
   "name": "python3"
  },
  "language_info": {
   "codemirror_mode": {
    "name": "ipython",
    "version": 3
   },
   "file_extension": ".py",
   "mimetype": "text/x-python",
   "name": "python",
   "nbconvert_exporter": "python",
   "pygments_lexer": "ipython3",
   "version": "3.7.3"
  }
 },
 "nbformat": 4,
 "nbformat_minor": 2
}
